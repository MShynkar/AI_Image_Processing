{
 "cells": [
  {
   "cell_type": "markdown",
   "id": "a5cb8ed5",
   "metadata": {},
   "source": [
    "# Лабораторна робота №1: Основи роботи з OpenCV\n",
    "\n",
    "**Мета роботи:** Ознайомлення з основними функціями бібліотеки OpenCV для читання, відображення, обробки та збереження зображень.\n",
    "\n",
    "**Завдання:** Проробити всі приклади з теоретичних відомостей, що включають:\n",
    "- Читання зображень з різними прапорами\n",
    "- Відображення зображень\n",
    "- Збереження файлів\n",
    "- Доступ до окремих пікселів\n",
    "- Вирізання частин зображення (ROI)\n",
    "- Зміна розміру та поворот зображень\n",
    "- Розмивання зображень\n",
    "- Малювання геометричних фігур та тексту\n",
    "\n",
    "---"
   ]
  },
  {
   "cell_type": "markdown",
   "id": "403d7a9f",
   "metadata": {},
   "source": [
    "## ex1 - Читання та відображення зображення\n",
    "Основний приклад роботи з OpenCV: читання зображення з файлу та його відображення у вікні."
   ]
  },
  {
   "cell_type": "code",
   "execution_count": 1,
   "id": "9d313913",
   "metadata": {},
   "outputs": [],
   "source": [
    "import cv2\n",
    "\n",
    "img = cv2.imread(\"image.jpg\")\n",
    "\n",
    "cv2.imshow(\"My image\", img)\n",
    "cv2.waitKey()\n",
    "cv2.destroyAllWindows()\n"
   ]
  },
  {
   "cell_type": "markdown",
   "id": "dea07128",
   "metadata": {},
   "source": [
    "## ex2 - Читання у відтінках сірого та збереження файлу\n",
    "Демонстрація читання зображення у відтінках сірого (прапор 0) та збереження зображення на диск."
   ]
  },
  {
   "cell_type": "code",
   "execution_count": 2,
   "id": "a9cb8831",
   "metadata": {},
   "outputs": [],
   "source": [
    "import cv2\n",
    "\n",
    "img = cv2.imread(\"image.jpg\", 0)\n",
    "cv2.imwrite(\"image2.jpg\", img)\n",
    "img = cv2.imread(\"image2.jpg\")\n",
    "cv2.imshow(\"My image\", img)\n",
    "cv2.waitKey()\n",
    "cv2.destroyAllWindows()\n"
   ]
  },
  {
   "cell_type": "markdown",
   "id": "d31e6d99",
   "metadata": {},
   "source": [
    "## ex2.1 - Демонстрація різних прапорів для читання зображення\n",
    "Приклад використання різних прапорів: `IMREAD_COLOR` (кольорове), `IMREAD_GRAYSCALE` (сіре), `IMREAD_UNCHANGED` (з альфа-каналом)."
   ]
  },
  {
   "cell_type": "code",
   "execution_count": 13,
   "id": "25e1fb4d",
   "metadata": {},
   "outputs": [
    {
     "name": "stdout",
     "output_type": "stream",
     "text": [
      "Кольорове зображення shape: (1457, 1022, 3)\n",
      "Сіре зображення shape: (1457, 1022)\n",
      "Незмінне зображення shape: (1457, 1022, 3)\n"
     ]
    }
   ],
   "source": [
    "import cv2\n",
    "import numpy as np\n",
    "\n",
    "# Читання кольорового зображення (за замовчуванням)\n",
    "img_color = cv2.imread(\"image.jpg\", cv2.IMREAD_COLOR)  # або просто 1\n",
    "print(\"Кольорове зображення shape:\", img_color.shape)\n",
    "\n",
    "# Читання у відтінках сірого\n",
    "img_gray = cv2.imread(\"image.jpg\", cv2.IMREAD_GRAYSCALE)  # або 0\n",
    "print(\"Сіре зображення shape:\", img_gray.shape)\n",
    "\n",
    "# Читання з альфа-каналом (якщо є)\n",
    "img_unchanged = cv2.imread(\"image.jpg\", cv2.IMREAD_UNCHANGED)  # або -1\n",
    "print(\"Незмінне зображення shape:\", img_unchanged.shape)\n",
    "\n",
    "# Відображення порівняння\n",
    "combined = np.hstack((cv2.cvtColor(img_gray, cv2.COLOR_GRAY2BGR), img_color))\n",
    "cv2.imshow(\"Gray vs Color\", combined)\n",
    "cv2.waitKey()\n",
    "cv2.destroyAllWindows()"
   ]
  },
  {
   "cell_type": "markdown",
   "id": "e10e2817",
   "metadata": {},
   "source": [
    "## ex3 - Доступ до окремих пікселів зображення\n",
    "Демонстрація отримання значень BGR окремого пікселя за координатами (x=50, y=100)."
   ]
  },
  {
   "cell_type": "code",
   "execution_count": 3,
   "id": "2b697f5b",
   "metadata": {},
   "outputs": [
    {
     "name": "stdout",
     "output_type": "stream",
     "text": [
      " red = np.uint8(63),  green = np.uint8(67),  blue = np.uint8(62)\n"
     ]
    }
   ],
   "source": [
    "import cv2\n",
    "\n",
    "img = cv2.imread(\"image.jpg\")\n",
    "(blue, red, green) = img[100, 50]\n",
    "print(f\"{ red = }, { green = }, { blue = }\")\n"
   ]
  },
  {
   "cell_type": "markdown",
   "id": "2e5dea65",
   "metadata": {},
   "source": [
    "## ex4 - Вирізання частини зображення (ROI - Region of Interest)\n",
    "Виділення та відображення певної прямокутної області зображення використовуючи зрізи масивів."
   ]
  },
  {
   "cell_type": "code",
   "execution_count": 4,
   "id": "a931ef70",
   "metadata": {},
   "outputs": [],
   "source": [
    "import cv2\n",
    "\n",
    "img = cv2.imread(\"image.jpg\")\n",
    "roi = img[200:270, 320:420]\n",
    "cv2.imshow(\"My image\", roi)\n",
    "cv2.waitKey()\n",
    "cv2.destroyAllWindows()"
   ]
  },
  {
   "cell_type": "markdown",
   "id": "9485a0b6",
   "metadata": {},
   "source": [
    "## ex5 - Пропорційна зміна розміру зображення\n",
    "Зміна розміру зображення з збереженням пропорцій, використовуючи функцію `cv2.resize()`."
   ]
  },
  {
   "cell_type": "code",
   "execution_count": 5,
   "id": "c07c5f4f",
   "metadata": {},
   "outputs": [],
   "source": [
    "import cv2\n",
    "\n",
    "img = cv2.imread(\"image.jpg\")\n",
    "h, w = img.shape[0:2]\n",
    "h_new = 300\n",
    "ratio = w / h\n",
    "w_new = int(h_new * ratio)\n",
    "resized = cv2.resize(img, (w_new, h_new))\n",
    "cv2.imshow(\"My image\", resized)\n",
    "cv2.waitKey()\n",
    "cv2.destroyAllWindows()\n"
   ]
  },
  {
   "cell_type": "markdown",
   "id": "c7b4ad1a",
   "metadata": {},
   "source": [
    "## ex6 - Поворот зображення\n",
    "Поворот зображення на 24 градуси навколо центру за допомогою матриці трансформації та функції `cv2.warpAffine()`. Також показано альтернативний спосіб з бібліотекою `imutils`."
   ]
  },
  {
   "cell_type": "code",
   "execution_count": 6,
   "id": "92c9fb69",
   "metadata": {},
   "outputs": [],
   "source": [
    "import cv2\n",
    "import imutils\n",
    "\n",
    "img = cv2.imread(\"image.jpg\")\n",
    "resized = imutils.resize(img, width=300)\n",
    "h, w = resized.shape[0:2]\n",
    "center = (w//2, h//2)\n",
    "M = cv2.getRotationMatrix2D(center, 24, 1.0)\n",
    "rotated = cv2.warpAffine(resized, M, (w, h))\n",
    "cv2.imshow(\"My image\", rotated)\n",
    "cv2.waitKey()\n",
    "cv2.destroyAllWindows()\n"
   ]
  },
  {
   "cell_type": "code",
   "execution_count": 14,
   "id": "db9f0216",
   "metadata": {},
   "outputs": [],
   "source": [
    "# Альтернативний спосіб повороту з imutils\n",
    "import cv2\n",
    "import imutils\n",
    "\n",
    "img = cv2.imread(\"image.jpg\")\n",
    "resized = imutils.resize(img, width=300)\n",
    "rotated_simple = imutils.rotate(resized, 45)\n",
    "cv2.imshow(\"Rotated with imutils\", rotated_simple)\n",
    "cv2.waitKey()\n",
    "cv2.destroyAllWindows()"
   ]
  },
  {
   "cell_type": "markdown",
   "id": "9435e28b",
   "metadata": {},
   "source": [
    "## ex7 - Розмивання зображення за Гаусом\n",
    "Застосування розмивання Гауса з ядром 11x11 для зменшення високочастотного шуму. Порівняння оригіналу та розмитого зображення."
   ]
  },
  {
   "cell_type": "code",
   "execution_count": 7,
   "id": "41f9c454",
   "metadata": {},
   "outputs": [],
   "source": [
    "import cv2\n",
    "import imutils\n",
    "import numpy as np\n",
    "\n",
    "img = cv2.imread(\"image.jpg\")\n",
    "resized = imutils.resize(img, width=300)\n",
    "blurred = cv2.GaussianBlur(resized, (11, 11), 0)\n",
    "summing = np.hstack((resized, blurred))\n",
    "cv2.imshow(\"My image\", summing)\n",
    "cv2.waitKey()\n",
    "cv2.destroyAllWindows()"
   ]
  },
  {
   "cell_type": "markdown",
   "id": "0ffdc651",
   "metadata": {},
   "source": [
    "## ex8 - Малювання прямокутника на зображенні\n",
    "Додавання червоного прямокутника на зображення за допомогою функції `cv2.rectangle()`."
   ]
  },
  {
   "cell_type": "code",
   "execution_count": 8,
   "id": "564c1e6c",
   "metadata": {},
   "outputs": [],
   "source": [
    "import cv2\n",
    "import imutils\n",
    "\n",
    "img = cv2.imread(\"image.jpg\")\n",
    "resized = imutils.resize(img, width=300)\n",
    "cv2.rectangle(resized, (130, 85), (180, 120), (0, 0, 255), 2)\n",
    "\n",
    "cv2.imshow(\"My image\", resized)\n",
    "cv2.waitKey()\n",
    "cv2.destroyAllWindows()"
   ]
  },
  {
   "cell_type": "markdown",
   "id": "a47280db",
   "metadata": {},
   "source": [
    "## ex9 - Малювання ліній та полігонів\n",
    "Створення різних типів ліній (діагональна, горизонтальна, вертикальна) та полігону за набором точок на чорному зображенні."
   ]
  },
  {
   "cell_type": "code",
   "execution_count": null,
   "id": "dd75f604",
   "metadata": {},
   "outputs": [],
   "source": [
    "import numpy as np\n",
    "import cv2\n",
    "\n",
    "# Створюємо чорне зображення\n",
    "img = np.zeros((200, 200, 3), np.uint8)\n",
    "\n",
    "# Малюємо діагональну лінію\n",
    "cv2.line(img, (0, 0), (200, 200), (255, 0, 0), 5)\n",
    "\n",
    "# Малюємо горизонтальну лінію\n",
    "cv2.line(img, (0, 100), (200, 100), (0, 255, 0), 3)\n",
    "\n",
    "# Малюємо вертикальну лінію\n",
    "cv2.line(img, (100, 0), (100, 200), (0, 0, 255), 2)\n",
    "\n",
    "# Малюємо полігон за набором точок\n",
    "points = np.array([[50, 50], [150, 50], [150, 150], [50, 150]], np.int32)\n",
    "cv2.polylines(img, [points], True, (255, 255, 255), 2)\n",
    "\n",
    "cv2.imshow(\"Lines and Polygon\", img)\n",
    "cv2.waitKey()\n",
    "cv2.destroyAllWindows()"
   ]
  },
  {
   "cell_type": "markdown",
   "id": "89d12d7d",
   "metadata": {},
   "source": [
    "## ex10 - Малювання кола\n",
    "Створення червоного кола з центром у точці (100, 100) та радіусом 50 пікселів за допомогою функції `cv2.circle()`."
   ]
  },
  {
   "cell_type": "code",
   "execution_count": 10,
   "id": "eb8681d5",
   "metadata": {},
   "outputs": [],
   "source": [
    "import numpy as np\n",
    "import cv2\n",
    "\n",
    "img = np.zeros((200, 200, 3), np.uint8)\n",
    "cv2.circle(img, (100, 100), 50, (0, 0, 255), 2)\n",
    "cv2.imshow(\"My image\", img)\n",
    "cv2.waitKey()\n",
    "cv2.destroyAllWindows()"
   ]
  },
  {
   "cell_type": "markdown",
   "id": "4b8c3423",
   "metadata": {},
   "source": [
    "## ex11 - Розміщення тексту на зображенні\n",
    "Додавання тексту \"OpenCV\" білим кольором зі шрифтом `FONT_HERSHEY_SCRIPT_COMPLEX` та згладжуванням."
   ]
  },
  {
   "cell_type": "code",
   "execution_count": 12,
   "id": "8a7e89c2",
   "metadata": {},
   "outputs": [],
   "source": [
    "import numpy as np\n",
    "import cv2\n",
    "\n",
    "img = np.zeros((200, 550, 3), np.uint8)\n",
    "font = cv2.FONT_HERSHEY_SCRIPT_COMPLEX\n",
    "cv2.putText(img, \"OpenCV\", (0, 100), font, 4, (255, 255, 255), 4, cv2.LINE_AA)\n",
    "\n",
    "cv2.imshow(\"My image\", img)\n",
    "cv2.waitKey()\n",
    "cv2.destroyAllWindows()"
   ]
  },
  {
   "cell_type": "markdown",
   "id": "9c9c9df4",
   "metadata": {},
   "source": [
    "## ex12 - Об'єднання кількох зображень\n",
    "Створення композиції з трьох версій зображення (оригінальне, сіре, розмите) з підписами для порівняння ефектів обробки."
   ]
  },
  {
   "cell_type": "code",
   "execution_count": 15,
   "id": "c4aae63b",
   "metadata": {},
   "outputs": [],
   "source": [
    "import cv2\n",
    "import numpy as np\n",
    "\n",
    "# Читаємо оригінальне зображення\n",
    "img_original = cv2.imread(\"image.jpg\")\n",
    "img_resized = cv2.resize(img_original, (300, 200))\n",
    "\n",
    "# Створюємо сіру версію\n",
    "img_gray = cv2.cvtColor(img_resized, cv2.COLOR_BGR2GRAY)\n",
    "img_gray_bgr = cv2.cvtColor(img_gray, cv2.COLOR_GRAY2BGR)\n",
    "\n",
    "# Створюємо розмиту версію\n",
    "img_blurred = cv2.GaussianBlur(img_resized, (15, 15), 0)\n",
    "\n",
    "# Об'єднуємо горизонтально\n",
    "horizontal_concat = np.hstack((img_resized, img_gray_bgr, img_blurred))\n",
    "\n",
    "# Створюємо підписи\n",
    "labels = [\"Original\", \"Grayscale\", \"Blurred\"]\n",
    "for i, label in enumerate(labels):\n",
    "    cv2.putText(horizontal_concat, label, (i*300 + 10, 30), \n",
    "                cv2.FONT_HERSHEY_SIMPLEX, 0.7, (0, 255, 255), 2)\n",
    "\n",
    "cv2.imshow(\"Combined Images\", horizontal_concat)\n",
    "cv2.waitKey()\n",
    "cv2.destroyAllWindows()"
   ]
  }
 ],
 "metadata": {
  "kernelspec": {
   "display_name": "env",
   "language": "python",
   "name": "python3"
  },
  "language_info": {
   "codemirror_mode": {
    "name": "ipython",
    "version": 3
   },
   "file_extension": ".py",
   "mimetype": "text/x-python",
   "name": "python",
   "nbconvert_exporter": "python",
   "pygments_lexer": "ipython3",
   "version": "3.12.10"
  }
 },
 "nbformat": 4,
 "nbformat_minor": 5
}
